{
 "cells": [
  {
   "cell_type": "markdown",
   "metadata": {},
   "source": [
    "This notebook is for connecting to the assets to be analized using Pandas"
   ]
  },
  {
   "cell_type": "code",
   "execution_count": 4,
   "metadata": {},
   "outputs": [],
   "source": [
    "# Imports\n",
    "\n",
    "import great_expectations as gx"
   ]
  },
  {
   "cell_type": "code",
   "execution_count": 5,
   "metadata": {},
   "outputs": [],
   "source": [
    "# Instantiate data context\n",
    "\n",
    "context = gx.get_context(context_root_dir=\"./datacontext/great_expectations/\")"
   ]
  },
  {
   "cell_type": "code",
   "execution_count": 6,
   "metadata": {},
   "outputs": [],
   "source": [
    "# Create the Data Source\n",
    "\n",
    "datasource_name = \"nyc_taxi_datasource\"\n",
    "path_to_folder_containing_parquet_files = \"./data/\"\n",
    "\n",
    "datasource = context.sources.add_pandas_filesystem(\n",
    "    name=datasource_name, base_directory=path_to_folder_containing_parquet_files\n",
    ")"
   ]
  },
  {
   "cell_type": "code",
   "execution_count": 7,
   "metadata": {},
   "outputs": [],
   "source": [
    "# Create the Asset\n",
    "\n",
    "asset_name = \"nyc_taxi_asset\"\n",
    "batching_regex = r\"yellow_tripdata_(?P<year>\\d{4})-(?P<month>\\d{2})\\.parquet\"\n",
    "asset = datasource.add_parquet_asset(name=asset_name, batching_regex=batching_regex)\n"
   ]
  },
  {
   "cell_type": "code",
   "execution_count": 8,
   "metadata": {},
   "outputs": [
    {
     "data": {
      "text/plain": [
       "PandasFilesystemDatasource(type='pandas_filesystem', name='nyc_taxi_datasource', id=None, assets=[ParquetAsset(name='nyc_taxi_asset', type='parquet', id=None, order_by=[], batch_metadata={}, batching_regex=re.compile('yellow_tripdata_(?P<year>\\\\d{4})-(?P<month>\\\\d{2})\\\\.parquet'), connect_options={}, splitter=None, engine='auto', columns=None, storage_options=None, use_nullable_dtypes=None, dtype_backend=None, kwargs=None)], base_directory=PosixPath('data'), data_context_root_directory=None)"
      ]
     },
     "execution_count": 8,
     "metadata": {},
     "output_type": "execute_result"
    }
   ],
   "source": [
    "context.save_datasource(datasource=datasource)"
   ]
  }
 ],
 "metadata": {
  "kernelspec": {
   "display_name": "gxvenv",
   "language": "python",
   "name": "python3"
  },
  "language_info": {
   "codemirror_mode": {
    "name": "ipython",
    "version": 3
   },
   "file_extension": ".py",
   "mimetype": "text/x-python",
   "name": "python",
   "nbconvert_exporter": "python",
   "pygments_lexer": "ipython3",
   "version": "3.11.4"
  },
  "orig_nbformat": 4
 },
 "nbformat": 4,
 "nbformat_minor": 2
}
