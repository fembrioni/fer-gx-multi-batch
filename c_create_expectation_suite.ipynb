{
 "cells": [
  {
   "cell_type": "markdown",
   "metadata": {},
   "source": [
    "This notebook is intended for the Expectation Suite creation"
   ]
  },
  {
   "cell_type": "code",
   "execution_count": 1,
   "metadata": {},
   "outputs": [],
   "source": [
    "# Imports\n",
    "\n",
    "import great_expectations as gx\n",
    "from great_expectations.core.expectation_configuration import ExpectationConfiguration"
   ]
  },
  {
   "cell_type": "code",
   "execution_count": 2,
   "metadata": {},
   "outputs": [],
   "source": [
    "# Instantiate data context\n",
    "\n",
    "context = gx.get_context(context_root_dir=\"./datacontext/great_expectations/\")"
   ]
  },
  {
   "cell_type": "code",
   "execution_count": 3,
   "metadata": {},
   "outputs": [],
   "source": [
    "# Create an Expectation Suite\n",
    "\n",
    "suite = context.add_expectation_suite(expectation_suite_name=\"nyc_taxi_expectation_suite\")"
   ]
  },
  {
   "cell_type": "code",
   "execution_count": 4,
   "metadata": {},
   "outputs": [
    {
     "data": {
      "text/plain": [
       "{\"expectation_type\": \"expect_column_values_to_be_between\", \"kwargs\": {\"column\": \"fare_amount\", \"min_value\": 5.0, \"max_value\": 100.0, \"mostly\": 0.9}, \"meta\": {\"notes\": {\"format\": \"markdown\", \"content\": \"Fare should be between 5 and 100 dollars.\"}}}"
      ]
     },
     "execution_count": 4,
     "metadata": {},
     "output_type": "execute_result"
    }
   ],
   "source": [
    "# Create the Expectation Configurations\n",
    "\n",
    "expectation_configuration = ExpectationConfiguration(\n",
    "    expectation_type=\"expect_column_values_to_be_between\",\n",
    "    kwargs={\n",
    "        \"column\": \"fare_amount\",\n",
    "        \"min_value\": 5.0,\n",
    "        \"max_value\": 100.0,\n",
    "        \"mostly\": 0.9,\n",
    "    },\n",
    "    meta={\n",
    "        \"notes\": {\n",
    "            \"format\": \"markdown\",\n",
    "            \"content\": \"Fare should be between 5 and 100 dollars.\",\n",
    "        }\n",
    "    },\n",
    ")\n",
    "suite.add_expectation(expectation_configuration=expectation_configuration)"
   ]
  },
  {
   "cell_type": "code",
   "execution_count": 5,
   "metadata": {},
   "outputs": [
    {
     "data": {
      "text/plain": [
       "'/Users/fernandoembrioni/Documents/Fer/repos/fer-gx-multi-batch/datacontext/great_expectations/expectations/nyc_taxi_expectation_suite.json'"
      ]
     },
     "execution_count": 5,
     "metadata": {},
     "output_type": "execute_result"
    }
   ],
   "source": [
    "# Save the Expectation Suite\n",
    "\n",
    "context.save_expectation_suite(expectation_suite=suite)"
   ]
  },
  {
   "cell_type": "markdown",
   "metadata": {},
   "source": [
    "Note:\n",
    "\n",
    "In case you want to validate dates, take the following tips into account.\n",
    "\n",
    "Keyword Args:\n",
    "\n",
    "- parse_strings_as_datetimes (boolean or None) : If True, parse min_value, max_value, and all non-null column values to datetimes before making comparisons.\n",
    "\n",
    "- output_strftime_format (str or None): A valid strfime format for datetime output. Only used if parse_strings_as_datetimes=True.\n",
    "\n",
    "Source: https://greatexpectations.io/expectations/expect_column_values_to_be_between?filterType=Backend%20support&gotoPage=1&showFilters=true&viewType=Summary&subFilterValues=pandas#examples"
   ]
  }
 ],
 "metadata": {
  "kernelspec": {
   "display_name": "gxmbvenv",
   "language": "python",
   "name": "python3"
  },
  "language_info": {
   "codemirror_mode": {
    "name": "ipython",
    "version": 3
   },
   "file_extension": ".py",
   "mimetype": "text/x-python",
   "name": "python",
   "nbconvert_exporter": "python",
   "pygments_lexer": "ipython3",
   "version": "3.11.4"
  }
 },
 "nbformat": 4,
 "nbformat_minor": 2
}
