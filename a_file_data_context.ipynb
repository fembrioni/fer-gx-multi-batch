{
 "cells": [
  {
   "cell_type": "markdown",
   "metadata": {},
   "source": [
    "This notebook is for the File Data Context creation"
   ]
  },
  {
   "cell_type": "code",
   "execution_count": 2,
   "metadata": {},
   "outputs": [],
   "source": [
    "# Install software\n",
    "\n",
    "!pip install -q -r requirements.txt"
   ]
  },
  {
   "cell_type": "code",
   "execution_count": 3,
   "metadata": {},
   "outputs": [],
   "source": [
    "# Imports\n",
    "\n",
    "import great_expectations as gx\n",
    "from great_expectations.data_context import FileDataContext"
   ]
  },
  {
   "cell_type": "code",
   "execution_count": 4,
   "metadata": {},
   "outputs": [],
   "source": [
    "# Initiate a Filesystem Data Context\n",
    "# Note: Replace /Users/fernandoembrioni/Documents/Fer/repos/ for the path previous to this repository\n",
    "\n",
    "path_to_empty_folder = \"/Users/fernandoembrioni/Documents/Fer/repos/fer-gx-multi-batch/datacontext\"\n",
    "context = FileDataContext.create(project_root_dir=path_to_empty_folder)"
   ]
  }
 ],
 "metadata": {
  "kernelspec": {
   "display_name": "gxvenv",
   "language": "python",
   "name": "python3"
  },
  "language_info": {
   "codemirror_mode": {
    "name": "ipython",
    "version": 3
   },
   "file_extension": ".py",
   "mimetype": "text/x-python",
   "name": "python",
   "nbconvert_exporter": "python",
   "pygments_lexer": "ipython3",
   "version": "3.11.4"
  },
  "orig_nbformat": 4
 },
 "nbformat": 4,
 "nbformat_minor": 2
}
